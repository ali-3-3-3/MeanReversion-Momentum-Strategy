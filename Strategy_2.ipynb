{
 "cells": [
  {
   "cell_type": "markdown",
   "metadata": {},
   "source": [
    "# IS4226 Group 9 Strategy 2\n",
    "\n",
    "## Strategy:\n",
    "Mean reversion and momentum strategy. We would use indicators to identify undervalued stocks with Relative Strength Index (RSI) and Bollinger Bands (BB) and Volume Weighted Average Price (VWAP) and checking momentum with Exponential Moving Average (EMA).\n",
    "### Buy\n",
    "We would enter a buy position if the stock is undervalued and showing momentum to the upside.\n",
    "### Sell\n",
    "We would enter a short position if the stock is overvalued and showing momentum to the downside."
   ]
  },
  {
   "cell_type": "code",
   "execution_count": 1,
   "metadata": {},
   "outputs": [],
   "source": [
    "#Imports\n",
    "from ta.momentum import RSIIndicator\n",
    "from ta.volatility import AverageTrueRange\n",
    "from ta.volume import VolumeWeightedAveragePrice\n",
    "\n",
    "import pandas as pd\n",
    "import numpy as np\n",
    "import matplotlib.pyplot as plt\n",
    "import yfinance as yf\n",
    "\n",
    "import warnings\n",
    "warnings.filterwarnings(\"ignore\")"
   ]
  },
  {
   "cell_type": "markdown",
   "metadata": {},
   "source": [
    "# Backtesting Parameters"
   ]
  },
  {
   "cell_type": "code",
   "execution_count": 2,
   "metadata": {},
   "outputs": [
    {
     "name": "stderr",
     "output_type": "stream",
     "text": [
      "[*********************100%***********************]  1 of 1 completed\n",
      "[*********************100%***********************]  1 of 1 completed\n",
      "[*********************100%***********************]  1 of 1 completed\n",
      "[*********************100%***********************]  1 of 1 completed\n",
      "[*********************100%***********************]  1 of 1 completed\n"
     ]
    }
   ],
   "source": [
    "# Backtesting parameters \n",
    "start=\"2015-01-01\"\n",
    "end=\"2019-12-31\"\n",
    "stock_names = [\"META\", \"AMZN\", \"AAPL\", \"NFLX\", \"GOOG\"]\n",
    "meta_stock = yf.download(\"META\", start=start, end=end)\n",
    "amzn_stock = yf.download(\"AMZN\", start=start, end=end)\n",
    "aapl_stock = yf.download(\"AAPL\", start=start, end=end)\n",
    "nflx_stock = yf.download(\"NFLX\", start=start, end=end)\n",
    "goog_stock = yf.download(\"GOOG\", start=start, end=end)"
   ]
  },
  {
   "cell_type": "markdown",
   "metadata": {},
   "source": []
  },
  {
   "cell_type": "markdown",
   "metadata": {},
   "source": [
    "### Functions for calculating indicators"
   ]
  },
  {
   "cell_type": "code",
   "execution_count": 3,
   "metadata": {},
   "outputs": [],
   "source": [
    "#Functions\n",
    "# For EMA Crossover\n",
    "def EMA(data: pd.DataFrame, window: int):\n",
    "    temp = data.ewm(span=window).mean()\n",
    "    return data.ewm(span=window).mean()\n",
    "\n",
    "# For RSI\n",
    "def RSI(data: pd.DataFrame, window: int):\n",
    "    return RSIIndicator(data[\"Close\"], window=window).rsi()\n",
    "\n",
    "# For Bollinger Band\n",
    "def bollinger(data: pd.DataFrame, size: int, std_dev: int):\n",
    "    data = data.copy()\n",
    "    sma = data.rolling(window=size).mean()\n",
    "    rstd = data.rolling(window=size).std()\n",
    "    upper_band = sma + std_dev * rstd\n",
    "    lower_band = sma - std_dev * rstd\n",
    "    sma = sma.rename(columns={'Close': 'BB_sma'})\n",
    "    upper_band = upper_band.rename(columns={'Close': 'BB_upper'})\n",
    "    lower_band = lower_band.rename(columns={'Close': 'BB_lower'})\n",
    "    return pd.concat([sma, lower_band, upper_band], axis=1).dropna()\n",
    "\n",
    "# For Volume Weighted Average Price\n",
    "def VWAP(data: pd.DataFrame, window: int):\n",
    "    high = data[\"High\"]\n",
    "    low = data[\"Low\"]\n",
    "    close = data[\"Close\"]\n",
    "    volume = data[\"Volume\"]\n",
    "    return VolumeWeightedAveragePrice(high, low, close, volume, window=window).volume_weighted_average_price()\n",
    "\n",
    "def ATR(data: pd.DataFrame):\n",
    "    high = data[\"High\"]\n",
    "    low = data[\"Low\"]\n",
    "    close = data[\"Close\"]\n",
    "    return AverageTrueRange(high, low, close).average_true_range()"
   ]
  },
  {
   "cell_type": "markdown",
   "metadata": {},
   "source": [
    "# Strategy 2:\n",
    "* Only long or short positions\n",
    " * Long when RSI or BB or VWAP shows that a stock is oversold and supported by momentum using EMA\n",
    " * Short when RSI or BB or VWAP shows that a stock is overbought and supported by momentum using EMA"
   ]
  },
  {
   "cell_type": "markdown",
   "metadata": {},
   "source": [
    "### Indicators used for trading signals"
   ]
  },
  {
   "cell_type": "code",
   "execution_count": 4,
   "metadata": {},
   "outputs": [],
   "source": [
    "#indicators\n",
    "\n",
    "# For EMA Crossover\n",
    "ema_fast_window = 5\n",
    "ema_slow_window = 20\n",
    "\n",
    "# For RSI\n",
    "rsi_window = 14\n",
    "rsi_buy_level = 30 #low level\n",
    "rsi_sell_level = 70#high level\n",
    "\n",
    "# For Bollinger Band\n",
    "bb_sma = 20\n",
    "bb_std_dev = 2\n",
    "\n",
    "# For Volume Weighted Average Price\n",
    "vwap_window = 14"
   ]
  },
  {
   "cell_type": "markdown",
   "metadata": {},
   "source": [
    "## Portfolio Returns using strategy 2"
   ]
  },
  {
   "cell_type": "code",
   "execution_count": 5,
   "metadata": {},
   "outputs": [],
   "source": [
    "stocks = [meta_stock, amzn_stock, aapl_stock, nflx_stock, goog_stock]\n",
    "portfolio = pd.DataFrame()\n",
    "for i, stock in enumerate(stocks):\n",
    "    # Get backtest data\n",
    "    ema_fast = EMA(stock[\"Close\"], ema_fast_window).rename(\"ema_fast\")\n",
    "    ema_slow = EMA(stock[\"Close\"], ema_slow_window).rename(\"ema_slow\")\n",
    "    rsi = RSI(stock, rsi_window)\n",
    "    bb = bollinger(stock[[\"Close\"]], bb_sma, bb_std_dev)\n",
    "    # atr = ATR(stock).rename(\"atr\")\n",
    "    vwap = VWAP(stock, vwap_window).rename(\"vwap\")\n",
    "    backtest_data = pd.DataFrame()\n",
    "    backtest_data[\"Close\"] = stock[\"Close\"]\n",
    "    backtest_data = pd.concat([backtest_data, ema_fast, ema_slow, rsi, bb, vwap], axis=1)\n",
    "    backtest_data = backtest_data.dropna()\n",
    "    position = []\n",
    "    long = False\n",
    "    status = 1 if long else -1\n",
    "    # For each day\n",
    "    for j in range(len(backtest_data)):\n",
    "        day = backtest_data.iloc[j]\n",
    "        ema_up = day[\"ema_fast\"] > day[\"ema_slow\"]\n",
    "        ema_down = day[\"ema_fast\"] < day[\"ema_slow\"]\n",
    "        rsi_buy = day[\"rsi\"] < rsi_buy_level\n",
    "        rsi_sell = day[\"rsi\"] > rsi_sell_level\n",
    "        bb_buy = day[\"Close\"] < day[\"BB_lower\"]\n",
    "        bb_sell = day[\"Close\"] > day[\"BB_upper\"]\n",
    "        vwap_check = day[\"vwap\"] > day[\"Close\"]\n",
    "        if not long:\n",
    "            if ema_up and (rsi_buy or bb_buy or vwap_check):\n",
    "                status = 1\n",
    "                long = True\n",
    "        elif long:\n",
    "            if ema_down and (rsi_sell or bb_sell):\n",
    "                status = -1\n",
    "                long = False\n",
    "        position.append(status)\n",
    "    backtest_data[\"Position\"] = position\n",
    "    #computing returns\n",
    "    backtest_data[\"Stock_Returns_Arithmetic\"] = backtest_data[\"Close\"] / backtest_data[\"Close\"].shift(1) - 1\n",
    "    backtest_data[\"Strategy_Returns\"] = backtest_data[\"Stock_Returns_Arithmetic\"] * backtest_data[\"Position\"].shift(1)\n",
    "    portfolio[\"stock\"] = stock_names[i]\n",
    "    portfolio[\"Strategy_Returns\"] = backtest_data[\"Strategy_Returns\"]\n",
    "    portfolio[\"Log_Strategy_Returns\"] = np.log(1 + portfolio[\"Strategy_Returns\"])\n",
    "\n",
    "portfolio[\"Gross_Cum_Portfolio_Returns\"] = portfolio[\"Strategy_Returns\"].cumsum().apply(np.exp)\n",
    "portfolio[\"Cum_Max_Portfolio\"] = portfolio[\"Gross_Cum_Portfolio_Returns\"].cummax()"
   ]
  },
  {
   "cell_type": "markdown",
   "metadata": {},
   "source": [
    "# Risk Return Statistics"
   ]
  },
  {
   "cell_type": "code",
   "execution_count": 7,
   "metadata": {},
   "outputs": [
    {
     "name": "stderr",
     "output_type": "stream",
     "text": [
      "[*********************100%***********************]  1 of 1 completed"
     ]
    },
    {
     "name": "stdout",
     "output_type": "stream",
     "text": [
      "Annual Mean Returns: 20.79%\n",
      "Annual Standard Deviation:  23.749\n",
      "Sharpe Ratio:  0.875\n",
      "Beta:  1.19953\n",
      "Alpha:  0.0643\n",
      "Max Drawdown:  57.08\n",
      "Max days of drawdown: 265\n"
     ]
    },
    {
     "name": "stderr",
     "output_type": "stream",
     "text": [
      "\n"
     ]
    }
   ],
   "source": [
    "#Portfolio returns and risk return statistics\n",
    "benchmark_ticker = \"^GSPC\"\n",
    "benchmark = yf.download(benchmark_ticker, start=start, end=end).Close.pct_change()\n",
    "portfolio[\"Benchmark_Returns\"] = benchmark\n",
    "portfolio[\"Log_Benchmark_Returns\"] = np.log(1 + portfolio[\"Benchmark_Returns\"])\n",
    "# Annual Mean Returns\n",
    "daily = portfolio[\"Log_Strategy_Returns\"].mean()\n",
    "annual = daily * 252\n",
    "annual_regular = round(np.exp(annual) - 1, 4) * 100\n",
    "print(f\"Annual Mean Returns: {annual_regular}%\")\n",
    "# Annual Standard Deviation\n",
    "daily_std = portfolio[\"Log_Strategy_Returns\"].std()\n",
    "annual_std = round(daily_std * (252 **0.5) * 100, 3)\n",
    "print(\"Annual Standard Deviation: \", annual_std)\n",
    "# Sharpe Ratio\n",
    "sharpe = round(annual_regular / annual_std, 3)\n",
    "print(\"Sharpe Ratio: \", sharpe)\n",
    "# Beta\n",
    "benchmark_var = portfolio[\"Benchmark_Returns\"].var()\n",
    "strategy_cov = portfolio[\"Strategy_Returns\"].cov(portfolio[\"Benchmark_Returns\"])\n",
    "beta = round(strategy_cov / benchmark_var, 5)\n",
    "print(\"Beta: \", beta)\n",
    "# Alpha\n",
    "alpha = annual - beta * (portfolio[\"Benchmark_Returns\"].mean() * 252)\n",
    "print(\"Alpha: \", round(alpha, 4))\n",
    "# Drawdown\n",
    "drawdown = portfolio[\"Cum_Max_Portfolio\"] - portfolio[\"Gross_Cum_Portfolio_Returns\"]\n",
    "portfolio[\"Drawdown\"] = drawdown\n",
    "max_drawdown = round(portfolio[\"Drawdown\"].max(), 4) * 100\n",
    "print(\"Max Drawdown: \", max_drawdown)\n",
    "# Finding Max Drawdown Period for Strategy\n",
    "zero_periods_strategy = drawdown[drawdown == 0]                            # For all periods where orange and blue meet\n",
    "delta_values_strategy = zero_periods_strategy.index[1:] - zero_periods_strategy.index[:-1]   # Taking the difference from the previous period\n",
    "max_days_strategy = delta_values_strategy.max().days\n",
    "print('Max days of drawdown:', max_days_strategy)   "
   ]
  },
  {
   "cell_type": "markdown",
   "metadata": {},
   "source": [
    "# Visualisation of Strategy Performance against benchmark\n"
   ]
  },
  {
   "cell_type": "code",
   "execution_count": null,
   "metadata": {},
   "outputs": [],
   "source": []
  },
  {
   "cell_type": "markdown",
   "metadata": {},
   "source": [
    "# Visualisation of drawdowns of strategy"
   ]
  },
  {
   "cell_type": "code",
   "execution_count": null,
   "metadata": {},
   "outputs": [],
   "source": []
  },
  {
   "cell_type": "markdown",
   "metadata": {},
   "source": [
    "# Yearly Performance of Strategy"
   ]
  },
  {
   "cell_type": "code",
   "execution_count": null,
   "metadata": {},
   "outputs": [],
   "source": []
  }
 ],
 "metadata": {
  "kernelspec": {
   "display_name": "Python 3",
   "language": "python",
   "name": "python3"
  },
  "language_info": {
   "codemirror_mode": {
    "name": "ipython",
    "version": 3
   },
   "file_extension": ".py",
   "mimetype": "text/x-python",
   "name": "python",
   "nbconvert_exporter": "python",
   "pygments_lexer": "ipython3",
   "version": "3.9.13"
  }
 },
 "nbformat": 4,
 "nbformat_minor": 2
}
